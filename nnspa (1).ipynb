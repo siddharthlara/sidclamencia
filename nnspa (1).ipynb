{
  "nbformat": 4,
  "nbformat_minor": 0,
  "metadata": {
    "colab": {
      "provenance": []
    },
    "kernelspec": {
      "name": "python3",
      "display_name": "Python 3"
    },
    "language_info": {
      "name": "python"
    }
  },
  "cells": [
    {
      "cell_type": "code",
      "execution_count": 1,
      "metadata": {
        "colab": {
          "base_uri": "https://localhost:8080/"
        },
        "id": "BoPViMIW_DK0",
        "outputId": "73ac862a-1acb-4463-eec1-e261d6275f45"
      },
      "outputs": [
        {
          "output_type": "stream",
          "name": "stdout",
          "text": [
            "apbqcr\n"
          ]
        }
      ],
      "source": [
        "def merge_alternately(word1, word2):\n",
        "    result = \"\"  # Initialize an empty string to store the merged result\n",
        "    # Loop over the length of the longest word\n",
        "    for i in range(max(len(word1), len(word2))):\n",
        "        # Add the character from word1 if it exists\n",
        "        if i < len(word1):\n",
        "            result += word1[i]\n",
        "        # Add the character from word2 if it exists\n",
        "        if i < len(word2):\n",
        "            result += word2[i]\n",
        "    return result\n",
        "\n",
        "# Example usage\n",
        "word1 = \"abc\"\n",
        "word2 = \"pqr\"\n",
        "output = merge_alternately(word1, word2)\n",
        "print(output)  # Output: apbqcr"
      ]
    },
    {
      "cell_type": "code",
      "source": [
        "#Function to merge two words alternately\n",
        "def merge_alternately(word1, word2):\n",
        "    result = \"\"  # Initialize an empty string to store the merged result\n",
        "    # Loop over the length of the longest word\n",
        "    for i in range(max(len(word1), len(word2))):\n",
        "        # Add the character from word1 if it exists\n",
        "        if i < len(word1):\n",
        "            result += word1[i]\n",
        "        # Add the character from word2 if it exists\n",
        "        if i < len(word2):\n",
        "            result += word2[i]\n",
        "    return result\n",
        "\n",
        "# Example usage\n",
        "word1 = \"ab\"\n",
        "word2 = \"pqrs\"\n",
        "output = merge_alternately(word1, word2)\n",
        "print(output)  # Output: apbqrs"
      ],
      "metadata": {
        "colab": {
          "base_uri": "https://localhost:8080/"
        },
        "id": "dQ0EAdSa_rvo",
        "outputId": "02bfd0a8-a906-41a0-bb20-964e8946bf2b"
      },
      "execution_count": 2,
      "outputs": [
        {
          "output_type": "stream",
          "name": "stdout",
          "text": [
            "apbqrs\n"
          ]
        }
      ]
    },
    {
      "cell_type": "code",
      "source": [
        "#Function to merge two words as per the given pattern\n",
        "def merge_words(word1, word2):\n",
        "    # Initialize an empty result string\n",
        "    result = \"\"\n",
        "\n",
        "    # Add the first character of word1\n",
        "    if word1:  # Check if word1 is not empty\n",
        "        result += word1[0]\n",
        "\n",
        "    # Add the first character of word2\n",
        "    if word2:  # Check if word2 is not empty\n",
        "        result += word2[0]\n",
        "\n",
        "    # Add the second character of word1, if it exists\n",
        "    if len(word1) > 1:\n",
        "        result += word1[1]\n",
        "\n",
        "    # Add the second character of word2, if it exists\n",
        "    if len(word2) > 1:\n",
        "        result += word2[1]\n",
        "\n",
        "    # Add the remaining characters of word1\n",
        "    if len(word1) > 2:\n",
        "        result += word1[2:]\n",
        "\n",
        "    return result\n",
        "\n",
        "# Example usage\n",
        "word1 = \"abcd\"\n",
        "word2 = \"pq\"\n",
        "output = merge_words(word1, word2)\n",
        "print(output)  # Output: \"apbqcd\""
      ],
      "metadata": {
        "colab": {
          "base_uri": "https://localhost:8080/"
        },
        "id": "TCpUQCJc_11f",
        "outputId": "58384040-3821-43ae-c20e-97478d392acd"
      },
      "execution_count": 3,
      "outputs": [
        {
          "output_type": "stream",
          "name": "stdout",
          "text": [
            "apbqcd\n"
          ]
        }
      ]
    },
    {
      "cell_type": "code",
      "source": [
        "#Function to find the greatest common divisor string of two strings\n",
        "def gcd_of_strings(str1, str2):\n",
        "    # Check if concatenating the strings in both orders gives the same result\n",
        "    if str1 + str2 != str2 + str1:\n",
        "        return \"\"  # If not, there is no common divisor string\n",
        "\n",
        "    # Find the greatest common divisor (GCD) of the lengths of both strings\n",
        "    import math\n",
        "    gcd_length = math.gcd(len(str1), len(str2))\n",
        "\n",
        "    # The GCD string will be the substring of str1 from 0 to gcd_length\n",
        "    return str1[:gcd_length]\n",
        "\n",
        "# Example usage\n",
        "str1 = \"ABCABC\"\n",
        "str2 = \"ABC\"\n",
        "output = gcd_of_strings(str1, str2)\n",
        "print(output)  # Output: \"ABC\""
      ],
      "metadata": {
        "colab": {
          "base_uri": "https://localhost:8080/"
        },
        "id": "R41gWR7FAOns",
        "outputId": "4ffde4d3-e15a-4140-92dd-07390ec1a07d"
      },
      "execution_count": 4,
      "outputs": [
        {
          "output_type": "stream",
          "name": "stdout",
          "text": [
            "ABC\n"
          ]
        }
      ]
    },
    {
      "cell_type": "code",
      "source": [
        "#Function to find the greatest common divisor string of two strings\n",
        "def gcd_of_strings(str1, str2):\n",
        "    # Check if concatenating the strings in both orders gives the same result\n",
        "    if str1 + str2 != str2 + str1:\n",
        "        return \"\"  # If not, there is no common divisor string\n",
        "\n",
        "    # Import the math module to use gcd function\n",
        "    import math\n",
        "    # Find the GCD of the lengths of both strings\n",
        "    gcd_length = math.gcd(len(str1), len(str2))\n",
        "\n",
        "    # The GCD string will be the substring of str1 from index 0 to gcd_length\n",
        "    return str1[:gcd_length]\n",
        "\n",
        "# Example usage\n",
        "str1 = \"ABABAB\"\n",
        "str2 = \"ABAB\"\n",
        "output = gcd_of_strings(str1, str2)\n",
        "print(output)  # Output: \"AB\""
      ],
      "metadata": {
        "colab": {
          "base_uri": "https://localhost:8080/"
        },
        "id": "eC9REABtAYjC",
        "outputId": "694c9a83-0e12-4438-ee4d-f9567d6ed2c7"
      },
      "execution_count": 5,
      "outputs": [
        {
          "output_type": "stream",
          "name": "stdout",
          "text": [
            "AB\n"
          ]
        }
      ]
    },
    {
      "cell_type": "code",
      "source": [
        "# Function to find the greatest common divisor string of two strings\n",
        "def gcd_of_strings(str1, str2):\n",
        "    # Check if concatenating the strings in both orders gives the same result\n",
        "    if str1 + str2 != str2 + str1:\n",
        "        return \" \"  # No common divisor string exists\n",
        "\n",
        "    # Import math module to use gcd function\n",
        "    import math\n",
        "    # Find the GCD of the lengths of both strings\n",
        "    gcd_length = math.gcd(len(str1), len(str2))\n",
        "\n",
        "    # The GCD string will be the substring of str1 from index 0 to gcd_length\n",
        "    return str1[:gcd_length]\n",
        "\n",
        "# Example usage\n",
        "str1 = \"LEFT\"\n",
        "str2 = \"CODE\"\n",
        "output = gcd_of_strings(str1, str2)\n",
        "print(output)  # Output: \" \""
      ],
      "metadata": {
        "colab": {
          "base_uri": "https://localhost:8080/"
        },
        "id": "I_Wfd2mhApj2",
        "outputId": "d601dbd7-cd62-4a8a-a38b-db233381b8e3"
      },
      "execution_count": 6,
      "outputs": [
        {
          "output_type": "stream",
          "name": "stdout",
          "text": [
            " \n"
          ]
        }
      ]
    }
  ]
}